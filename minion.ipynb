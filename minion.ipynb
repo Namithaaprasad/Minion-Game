{
  "nbformat": 4,
  "nbformat_minor": 0,
  "metadata": {
    "colab": {
      "provenance": [],
      "authorship_tag": "ABX9TyOvrAQhISNILeLkRRSM8QNg"
    },
    "kernelspec": {
      "name": "python3",
      "display_name": "Python 3"
    },
    "language_info": {
      "name": "python"
    }
  },
  "cells": [
    {
      "cell_type": "code",
      "source": [
        "\n",
        "def game(string):\n",
        "\n",
        "  # Initialize scores for Kevin and Stuart\n",
        "    kvnscr= 0\n",
        "    strtscr= 0\n",
        "    n=len(string)\n",
        "    vowels='AEIOU'\n",
        "    kvnwrd={}\n",
        "    strtwrd={}\n",
        "\n",
        "  # Iterate through the string\n",
        "    for i in range(n):\n",
        "        score=n-i # Score contribution of the current starting letter\n",
        "\n",
        "        if string[i] in vowels:\n",
        "            kvnscr=kvnscr+score # Add to Kevin's score if it's a vowel\n",
        "            for j in range(i+1,n+1):\n",
        "              sub=string[i:j]\n",
        "              kvnwrd[sub]=kvnwrd.get(sub,0)+ 1\n",
        "        else:\n",
        "            strtscr=strtscr+score # Add to Stuart's score if it's a consonant\n",
        "\n",
        "            for j in range(i+1,n+1):\n",
        "              sub=string[i:j]\n",
        "              strtwrd[sub]=strtwrd.get(sub,0)+ 1\n",
        "    print(\"STUART\")\n",
        "    print(\"WORDS   SCORE\")\n",
        "    for word,count in sorted(strtwrd.items()):\n",
        "        print(f\"{word}        {count}\")\n",
        "    print(\"TOTAL\",strtscr)\n",
        "    print(\"\\nKEVIN\")\n",
        "    print(\"WORDS   SCORE\")\n",
        "    for word,count in sorted(kvnwrd.items()):\n",
        "        print(f\"{word}        {count}\")\n",
        "\n",
        "    # Determine and print the winner\n",
        "    print(\"TOTAL\",kvnscr)\n",
        "    if kvnscr >strtscr:\n",
        "        print(\"\\nWinner: Kevin\",kvnscr)\n",
        "    elif strtscr >kvnscr:\n",
        "        print(\"\\nWinner: Stuart\",strtscr)\n",
        "    else:\n",
        "        print(\"\\nDraw\")\n",
        "word = input(\"Enter the string: \").strip().upper()  # Take input from the user and convert it to uppercase\n",
        "game(word)"
      ],
      "metadata": {
        "colab": {
          "base_uri": "https://localhost:8080/"
        },
        "id": "e7ag5sErcDG6",
        "outputId": "51b779b4-1f60-4bf4-c51f-107e9190c223"
      },
      "execution_count": 27,
      "outputs": [
        {
          "output_type": "stream",
          "name": "stdout",
          "text": [
            "Enter the string: banana\n",
            "STUART\n",
            "WORDS   SCORE\n",
            "B        1\n",
            "BA        1\n",
            "BAN        1\n",
            "BANA        1\n",
            "BANAN        1\n",
            "BANANA        1\n",
            "N        2\n",
            "NA        2\n",
            "NAN        1\n",
            "NANA        1\n",
            "TOTAL 12\n",
            "\n",
            "KEVIN\n",
            "WORDS   SCORE\n",
            "A        3\n",
            "AN        2\n",
            "ANA        2\n",
            "ANAN        1\n",
            "ANANA        1\n",
            "TOTAL 9\n",
            "\n",
            "Winner: Stuart 12\n"
          ]
        }
      ]
    }
  ]
}