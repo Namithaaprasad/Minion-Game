{
  "nbformat": 4,
  "nbformat_minor": 0,
  "metadata": {
    "colab": {
      "provenance": [],
      "authorship_tag": "ABX9TyM/i5n1BRNsSi8u7WP4tJWf",
      "include_colab_link": true
    },
    "kernelspec": {
      "name": "python3",
      "display_name": "Python 3"
    },
    "language_info": {
      "name": "python"
    }
  },
  "cells": [
    {
      "cell_type": "markdown",
      "metadata": {
        "id": "view-in-github",
        "colab_type": "text"
      },
      "source": [
        "<a href=\"https://colab.research.google.com/github/Namithaaprasad/Minion-Game/blob/main/miniongame.ipynb\" target=\"_parent\"><img src=\"https://colab.research.google.com/assets/colab-badge.svg\" alt=\"Open In Colab\"/></a>"
      ]
    },
    {
      "cell_type": "code",
      "execution_count": 18,
      "metadata": {
        "colab": {
          "base_uri": "https://localhost:8080/",
          "height": 0
        },
        "id": "yk2Gm_HQLl4R",
        "outputId": "0ac7eb15-9d56-4bba-a0f3-18cd45df3904"
      },
      "outputs": [
        {
          "output_type": "stream",
          "name": "stdout",
          "text": [
            "Enter the string: banana\n",
            "STUART\n",
            "WORDS   SCORE\n",
            "B        1\n",
            "BA        1\n",
            "BAN        1\n",
            "BANA        1\n",
            "BANAN        1\n",
            "BANANA        1\n",
            "N        2\n",
            "NA        2\n",
            "NAN        1\n",
            "NANA        1\n",
            "TOTAL 12\n",
            "\n",
            "KEVIN\n",
            "WORDS   SCORE\n",
            "A        3\n",
            "AN        2\n",
            "ANA        2\n",
            "ANAN        1\n",
            "ANANA        1\n",
            "TOTAL 9\n",
            "\n",
            "Winner: Stuart 12\n"
          ]
        }
      ],
      "source": [
        "def game(string):\n",
        "\n",
        "# Initialize scores for Kevin and Stuart\n",
        "    kvnscr= 0\n",
        "    strtscr= 0\n",
        "    n=len(string)\n",
        "    vowels='AEIOU'\n",
        "    kvnwrd={}\n",
        "    strtwrd={}\n",
        "\n",
        " # Iterate through the string\n",
        "    for i in range(n):\n",
        "        score=n-i  # Score contribution of the current starting letter\n",
        "        if string[i] in vowels:\n",
        "            kvnscr=kvnscr+score # Add to Kevin's score if it's a vowel\n",
        "            for j in range(i+1,n+1):\n",
        "              sub=string[i:j]\n",
        "              kvnwrd[sub]=kvnwrd.get(sub,0)+ 1\n",
        "        else:\n",
        "            strtscr=strtscr+score # Add to Stuart's score if it's a consonant\n",
        "            for j in range(i+1,n+1):\n",
        "              sub=string[i:j]\n",
        "              strtwrd[sub]=strtwrd.get(sub,0)+ 1\n",
        "    print(\"STUART\")\n",
        "    print(\"WORDS   SCORE\")\n",
        "    for word,count in sorted(strtwrd.items()):\n",
        "        print(f\"{word}        {count}\")\n",
        "    print(\"TOTAL\",strtscr)\n",
        "    print(\"\\nKEVIN\")\n",
        "    print(\"WORDS   SCORE\")\n",
        "    for word,count in sorted(kvnwrd.items()):\n",
        "        print(f\"{word}        {count}\")\n",
        "    print(\"TOTAL\",kvnscr)\n",
        "\n",
        "    # Determine and print the winner\n",
        "    if kvnscr >strtscr:\n",
        "        print(\"\\nWinner: Kevin\",kvnscr)\n",
        "    elif strtscr >kvnscr:\n",
        "        print(\"\\nWinner: Stuart\",strtscr)\n",
        "    else:\n",
        "        print(\"\\nDraw\")\n",
        "\n",
        "# Take input from the user and convert it to uppercase\n",
        "word = input(\"Enter the string: \").strip().upper()\n",
        "\n",
        "# Run the game function\n",
        "game(word)"
      ]
    }
  ]
}